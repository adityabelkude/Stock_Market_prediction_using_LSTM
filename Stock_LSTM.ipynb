{
 "cells": [
  {
   "cell_type": "code",
   "execution_count": 67,
   "id": "54915101",
   "metadata": {},
   "outputs": [],
   "source": [
    "import numpy as np\n",
    "import pandas as pd\n",
    "from sklearn.preprocessing import MinMaxScaler\n",
    "import matplotlib.pyplot as plt"
   ]
  },
  {
   "cell_type": "code",
   "execution_count": 68,
   "id": "4df59474",
   "metadata": {},
   "outputs": [
    {
     "name": "stdout",
     "output_type": "stream",
     "text": [
      "Requirement already satisfied: torch in c:\\users\\shit_box\\anaconda3\\lib\\site-packages (2.1.0)\n",
      "Requirement already satisfied: torchvision in c:\\users\\shit_box\\anaconda3\\lib\\site-packages (0.16.0)\n",
      "Requirement already satisfied: typing-extensions in c:\\users\\shit_box\\anaconda3\\lib\\site-packages (from torch) (4.3.0)\n",
      "Requirement already satisfied: filelock in c:\\users\\shit_box\\anaconda3\\lib\\site-packages (from torch) (3.6.0)\n",
      "Requirement already satisfied: sympy in c:\\users\\shit_box\\anaconda3\\lib\\site-packages (from torch) (1.10.1)\n",
      "Requirement already satisfied: networkx in c:\\users\\shit_box\\anaconda3\\lib\\site-packages (from torch) (2.8.4)\n",
      "Requirement already satisfied: jinja2 in c:\\users\\shit_box\\anaconda3\\lib\\site-packages (from torch) (2.11.3)\n",
      "Requirement already satisfied: fsspec in c:\\users\\shit_box\\anaconda3\\lib\\site-packages (from torch) (2022.7.1)\n",
      "Requirement already satisfied: numpy in c:\\users\\shit_box\\anaconda3\\lib\\site-packages (from torchvision) (1.21.5)\n",
      "Requirement already satisfied: requests in c:\\users\\shit_box\\anaconda3\\lib\\site-packages (from torchvision) (2.28.1)\n",
      "Requirement already satisfied: pillow!=8.3.*,>=5.3.0 in c:\\users\\shit_box\\anaconda3\\lib\\site-packages (from torchvision) (9.2.0)\n",
      "Requirement already satisfied: MarkupSafe>=0.23 in c:\\users\\shit_box\\anaconda3\\lib\\site-packages (from jinja2->torch) (2.0.1)\n",
      "Requirement already satisfied: idna<4,>=2.5 in c:\\users\\shit_box\\anaconda3\\lib\\site-packages (from requests->torchvision) (3.3)\n",
      "Requirement already satisfied: certifi>=2017.4.17 in c:\\users\\shit_box\\anaconda3\\lib\\site-packages (from requests->torchvision) (2022.9.14)\n",
      "Requirement already satisfied: charset-normalizer<3,>=2 in c:\\users\\shit_box\\anaconda3\\lib\\site-packages (from requests->torchvision) (2.0.4)\n",
      "Requirement already satisfied: urllib3<1.27,>=1.21.1 in c:\\users\\shit_box\\anaconda3\\lib\\site-packages (from requests->torchvision) (1.26.11)\n",
      "Requirement already satisfied: mpmath>=0.19 in c:\\users\\shit_box\\anaconda3\\lib\\site-packages (from sympy->torch) (1.2.1)\n",
      "Note: you may need to restart the kernel to use updated packages.\n"
     ]
    }
   ],
   "source": [
    "pip install torch torchvision"
   ]
  },
  {
   "cell_type": "code",
   "execution_count": null,
   "id": "55e1240c",
   "metadata": {},
   "outputs": [],
   "source": [
    "conda install pytorch torchvision -c pytorch"
   ]
  },
  {
   "cell_type": "code",
   "execution_count": null,
   "id": "50d5ed2d",
   "metadata": {},
   "outputs": [],
   "source": [
    "import torch \n",
    "import torch.nn as nn"
   ]
  },
  {
   "cell_type": "code",
   "execution_count": null,
   "id": "367d1719",
   "metadata": {},
   "outputs": [],
   "source": [
    "df= pd.read_csv(\"AAPL.csv\")"
   ]
  },
  {
   "cell_type": "code",
   "execution_count": null,
   "id": "b4160f53",
   "metadata": {},
   "outputs": [],
   "source": [
    "closed_prices=df['Close']"
   ]
  },
  {
   "cell_type": "code",
   "execution_count": null,
   "id": "75260bdf",
   "metadata": {},
   "outputs": [],
   "source": [
    "seq_len =15"
   ]
  },
  {
   "cell_type": "code",
   "execution_count": null,
   "id": "c9a7256c",
   "metadata": {},
   "outputs": [],
   "source": [
    "mm =MinMaxScaler()"
   ]
  },
  {
   "cell_type": "code",
   "execution_count": null,
   "id": "17ba2fda",
   "metadata": {},
   "outputs": [],
   "source": [
    "scaler_price =mm.fit_transform(np.array(closed_prices)[... ,None]).squeeze()"
   ]
  },
  {
   "cell_type": "code",
   "execution_count": null,
   "id": "f185651b",
   "metadata": {},
   "outputs": [],
   "source": [
    "x=[]\n",
    "y=[]\n"
   ]
  },
  {
   "cell_type": "code",
   "execution_count": null,
   "id": "98a63bbb",
   "metadata": {},
   "outputs": [],
   "source": [
    "for i in range(len(scaler_price)-seq_len):\n",
    "    x.append(scaler_price[i : i+seq_len])\n",
    "    y.append(scaler_price[i+seq_len])"
   ]
  },
  {
   "cell_type": "markdown",
   "id": "85ecf8b8",
   "metadata": {},
   "source": [
    "### split into train and test"
   ]
  },
  {
   "cell_type": "code",
   "execution_count": null,
   "id": "784946cc",
   "metadata": {},
   "outputs": [],
   "source": [
    "x =np.array(x)[... , None]\n",
    "y =np.array(y)[... , None]"
   ]
  },
  {
   "cell_type": "code",
   "execution_count": null,
   "id": "7f423edb",
   "metadata": {},
   "outputs": [],
   "source": [
    "train_x = torch.from_numpy(x[:int (0.8 * x.shape[0])]).float()"
   ]
  },
  {
   "cell_type": "code",
   "execution_count": null,
   "id": "c45e0348",
   "metadata": {},
   "outputs": [],
   "source": [
    "train_y = torch.from_numpy(y[:int (0.8 * x.shape[0])]).float()"
   ]
  },
  {
   "cell_type": "code",
   "execution_count": null,
   "id": "8fbd51e6",
   "metadata": {},
   "outputs": [],
   "source": [
    "test_x = torch.from_numpy(x[int (0.8 * x.shape[0]):]).float()"
   ]
  },
  {
   "cell_type": "code",
   "execution_count": null,
   "id": "fe785efe",
   "metadata": {},
   "outputs": [],
   "source": [
    "test_y = torch.from_numpy(y[int (0.8 * x.shape[0]):]).float()"
   ]
  },
  {
   "cell_type": "code",
   "execution_count": null,
   "id": "48415c7d",
   "metadata": {},
   "outputs": [],
   "source": [
    "class Model (nn.Module):\n",
    "    def __init__(self , input_size , hidden_size):\n",
    "        super().__init__()\n",
    "        self.lstm = nn.LSTM(input_size , hidden_size,batch_first = True)\n",
    "        self.fc = nn.Linear(hidden_size, 1)\n",
    "    def forward(self, x):\n",
    "        output ,(hidden , cell ) = self.lstm(x)\n",
    "        return self.fc(hidden[-1,:1])\n",
    "model = Model (1 , 96)\n",
    "\n",
    "optimizer = torch.optim.Adam(model.parameters(),lr = 0.001)\n",
    "loss_fn = nn.MSELoss()"
   ]
  },
  {
   "cell_type": "code",
   "execution_count": null,
   "id": "3b9461c4",
   "metadata": {},
   "outputs": [],
   "source": [
    "num_epochs =100\n",
    "\n",
    "for epoch in range(num_epochs):\n",
    "    optimizer.zero_grad()\n",
    "    output = model(train_x)\n",
    "    loss = loss_fn(output, train_y)\n",
    "    loss.backward()\n",
    "    optimizer.step()\n",
    "    \n",
    "    if epoch % 10 == 0:\n",
    "        print(epoch, \"epoch loss\", loss.item())\n",
    "model.eval()\n",
    "with torch.no_grad():\n",
    "    test_output = model(test_x)\n",
    "\n",
    "pred = mm.inverse_transform(test_output.numpy())\n",
    "real = mm.inverse_transform(test_y.numpy())\n",
    "\n",
    "plt.plot(pred.squeeze(), color='blue', label='predicted')\n",
    "plt.plot(real.squeeze(), color='yellow', label='real')\n",
    "plt.legend()\n",
    "plt.show()\n"
   ]
  },
  {
   "cell_type": "code",
   "execution_count": null,
   "id": "ae079cc8",
   "metadata": {},
   "outputs": [],
   "source": []
  },
  {
   "cell_type": "code",
   "execution_count": null,
   "id": "91be1283",
   "metadata": {},
   "outputs": [],
   "source": []
  },
  {
   "cell_type": "code",
   "execution_count": null,
   "id": "3fbb49aa",
   "metadata": {},
   "outputs": [],
   "source": []
  }
 ],
 "metadata": {
  "kernelspec": {
   "display_name": "Python 3 (ipykernel)",
   "language": "python",
   "name": "python3"
  },
  "language_info": {
   "codemirror_mode": {
    "name": "ipython",
    "version": 3
   },
   "file_extension": ".py",
   "mimetype": "text/x-python",
   "name": "python",
   "nbconvert_exporter": "python",
   "pygments_lexer": "ipython3",
   "version": "3.9.13"
  }
 },
 "nbformat": 4,
 "nbformat_minor": 5
}
